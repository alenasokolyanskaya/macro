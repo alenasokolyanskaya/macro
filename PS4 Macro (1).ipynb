{
 "cells": [
  {
   "cell_type": "markdown",
   "metadata": {},
   "source": [
    "# Problem Set 4. Quantative Macroeconomics\n",
    "## Alena Sokolyanskaya"
   ]
  },
  {
   "cell_type": "markdown",
   "metadata": {},
   "source": [
    "[.1] We define Lagrangian:\n",
    "\n",
    "$\\Lambda = \\sum \\beta^{t} u(c, h_{t}) - \\lambda_{t} (c_{t} +k_{t+1} - k_{t}^{1-\\theta}(h_{t})^{\\theta} - (1-\\delta)k_{t})$\n",
    "\n",
    "[.2] Calculating FOCs wrt $c_{t}$ and $k_{t+1}$:\n",
    "\n",
    "$[c_{t}]: \\beta u'(c_{t}) = \\lambda_{t}$\n",
    "\n",
    "$[k_{t+1}]: \\lambda_{t} = \\lambda_{t+1}(1-\\delta+(1-\\theta)k_{t+1}^{-\\theta}(h_{t+1})^{\\theta})$\n",
    "\n",
    "In the SS $k_{t+1} = k_{t} = k^{ss}$ and $c_{t+1} = c_{t} = c^{ss}$.\n",
    "\n",
    "[.3] We get that:\n",
    "\n",
    "$k^{ss} = \\left[ \\dfrac{(1-\\theta)(h)^{\\theta}}{\\dfrac{1}{\\beta} - 1 + \\delta} \\right]^{1/\\theta}$\n",
    "\n",
    "$i^{ss} = k^{ss} - (1-\\delta) k^{ss} = \\delta k^{ss}$\n",
    "\n",
    "Normalizing, y = 1 we get: $1 = k^{1-\\theta} h^{\\theta}$ and therefore:\n",
    "\n",
    "$k = \\left[ \\dfrac{(1-\\theta)}{\\dfrac{1}{\\beta} - 1 + \\delta} \\right]^{1/\\theta}$\n"
   ]
  },
  {
   "cell_type": "markdown",
   "metadata": {},
   "source": [
    "## Question 1. Value Function Iteration"
   ]
  },
  {
   "cell_type": "code",
   "execution_count": 317,
   "metadata": {},
   "outputs": [
    {
     "name": "stdout",
     "output_type": "stream",
     "text": [
      "0.025008681986946613\n"
     ]
    },
    {
     "name": "stderr",
     "output_type": "stream",
     "text": [
      "/Users/alena/anaconda3/lib/python3.6/site-packages/ipykernel_launcher.py:33: RuntimeWarning: invalid value encountered in log\n"
     ]
    },
    {
     "data": {
      "image/png": "[encoded data removed]",
      "text/plain": [
       "<Figure size 432x288 with 1 Axes>"
      ]
     },
     "metadata": {},
     "output_type": "display_data"
    }
   ],
   "source": [
    "import sympy as sy\n",
    "import numpy as np\n",
    "import math\n",
    "import matplotlib.pyplot as plt\n",
    "import timeit\n",
    "\n",
    "theta = 0.679\n",
    "beta = 0.988\n",
    "delta = 0.013\n",
    "\n",
    "# defining k_ss\n",
    "\n",
    "k_ss=((1-theta)/((1/beta)+delta-1))**(1/theta)\n",
    "k=np.linspace(0.01,1.1*k_ss,10) # discretesize\n",
    "\n",
    "#STEP 2\n",
    "V = np.empty(shape=[10, 200])\n",
    "# initial vector v0\n",
    "V[:,0]=np.zeros((10))\n",
    "\n",
    "#STEP 3. return matrix M\n",
    "# combinations of inputs\n",
    "m1,m2=np.meshgrid(k,k)\n",
    "\n",
    "def f(m1,m2):\n",
    "    return m1**(1-theta) + (1-delta)*m1 - m2\n",
    "N = f(m1,m2)\n",
    "\n",
    "# utility function\n",
    "def u(m1,m2):\n",
    "    for i,j in zip(range(0,10),range(0,10)):\n",
    "        if N[i,j]>=0:\n",
    "            return np.log(m1**(1-theta) + (1-delta)*m1 - m2)\n",
    "        else:\n",
    "            return -100\n",
    "\n",
    "M = u(m1,m2)\n",
    "M[np.isnan(M)] = 0 \n",
    "\n",
    "#STEP 4\n",
    "\n",
    "start = timeit.default_timer()\n",
    "\n",
    "X = np.empty(shape=[10, 10])    \n",
    "for k in range(0,199): #iterations\n",
    "    epsilon=0.01\n",
    "    for i,j in zip(range(0,10),range(0,10)):\n",
    "        X[i,j]=M[i,j]+(beta*V[:,k][j])\n",
    "    for i in range(0,10):\n",
    "        V[:,k+1][i]= np.amax(X[:,i])\n",
    "    for k,i in zip(range(0,199),range(0,10)):\n",
    "        if abs(V[:,k+1][i]-V[:,k][i])< epsilon:\n",
    "            break\n",
    "        else:\n",
    "            continue\n",
    "\n",
    "stop = timeit.default_timer()\n",
    "execution_time = stop - start\n",
    "print(execution_time)\n",
    "#print(\"Program Executed in \"+execution_time) \n",
    "\n",
    "#STEP 5\n",
    "G=np.empty(shape=(10,1)) # policy function\n",
    "for i in range(0,9):\n",
    "    G[i]=np.argmax(X[:,i]) \n",
    "    \n",
    "#STEP 6\n",
    "plt.figure()\n",
    "k=np.linspace(0.01,1.1*k_ss,10)\n",
    "plt.plot(k,V[:,199])\n",
    "plt.title('Value Function')\n",
    "plt.xlabel('Capital')\n",
    "plt.ylabel('Utility')\n",
    "plt.show()\n"
   ]
  },
  {
   "cell_type": "markdown",
   "metadata": {},
   "source": [
    "#### In general case the time for the code to run is 0.025 sec. As expected the running time is the longest, since we did not introduce information on monotoncity or concavity, so it takes more time for the computer to evaluate this characteristics of the value function."
   ]
  },
  {
   "cell_type": "code",
   "execution_count": 323,
   "metadata": {},
   "outputs": [
    {
     "name": "stdout",
     "output_type": "stream",
     "text": [
      "0.017555609985720366\n"
     ]
    },
    {
     "data": {
      "text/plain": [
       "Text(0,0.5,'Utility')"
      ]
     },
     "execution_count": 323,
     "metadata": {},
     "output_type": "execute_result"
    },
    {
     "data": {
      "image/png": "[encoded data removed]",
      "text/plain": [
       "<Figure size 432x288 with 1 Axes>"
      ]
     },
     "metadata": {},
     "output_type": "display_data"
    }
   ],
   "source": [
    "### WITH MONOTONICITY\n",
    "\n",
    "#STEP 4 including monotonicity\n",
    "start = timeit.default_timer()\n",
    "\n",
    "V1 = np.empty(shape=[10, 200])\n",
    "V1[:,0]=np.zeros((10))\n",
    "G1 = np.empty(shape=[10, 200])\n",
    "X1 = np.empty(shape=[10, 10]) \n",
    "X1[np.isnan(X1)] = 0 \n",
    "for s in range(0,199):\n",
    "    epsilon=0.01\n",
    "    for i,j in zip(range(0,10),range(0,1)):\n",
    "        if j >= G1[:,s+1][i]: # monotonicity condition\n",
    "            X1[i,j]=M[i,j]+(beta*V1[:,s][j])\n",
    "            for i in range(0,10):\n",
    "                V1[:,s+1][i]= np.amax(X1[i,:])\n",
    "                G1[:,s]=np.argmax(X1[i,:])\n",
    "            for k,i in zip(range(0,199),range(0,10)):\n",
    "                if abs(V1[:,s+1][i]-V1[:,s][i])< epsilon:\n",
    "                    break\n",
    "                else:\n",
    "                    continue\n",
    "\n",
    "stop = timeit.default_timer()\n",
    "execution_time = stop - start\n",
    "print(execution_time)\n",
    "\n",
    "k1=np.linspace(0.01,1.1*k_ss,10)\n",
    "plt.plot(k1,V1[:,199])\n",
    "plt.title('Value Function')\n",
    "plt.xlabel('Capital')\n",
    "plt.ylabel('Utility')"
   ]
  },
  {
   "cell_type": "markdown",
   "metadata": {},
   "source": [
    "#### Including monoticity information the time of the code decreased to 0.017"
   ]
  },
  {
   "cell_type": "code",
   "execution_count": 324,
   "metadata": {},
   "outputs": [
    {
     "name": "stdout",
     "output_type": "stream",
     "text": [
      "0.005930822982918471\n"
     ]
    },
    {
     "data": {
      "text/plain": [
       "Text(0,0.5,'Utility')"
      ]
     },
     "execution_count": 324,
     "metadata": {},
     "output_type": "execute_result"
    },
    {
     "data": {
      "image/png": "[encoded data removed]",
      "text/plain": [
       "<Figure size 432x288 with 1 Axes>"
      ]
     },
     "metadata": {},
     "output_type": "display_data"
    }
   ],
   "source": [
    "### WITH CONCAVITY\n",
    "\n",
    "#STEP 4 including concavity\n",
    "start = timeit.default_timer()\n",
    "\n",
    "X2 = np.empty(shape=[10, 10])\n",
    "for s in range(0,199):\n",
    "    epsilon=0.01\n",
    "    for i,j in zip(range(0,10),range(0,10)):\n",
    "        if X2[i, j-1]>X2[i,j]: # concavity\n",
    "            X2[i,j]=M[i,j]+(beta*V1[:,s][j])\n",
    "            X2[np.isnan(X2)] = 0 \n",
    "            for i in range(0,10):\n",
    "                V1[:,s+1][i]= np.amax(X1[i,:])\n",
    "            for k,i in zip(range(0,199),range(0,10)):\n",
    "                if abs(V1[:,s+1][i]-V1[:,s][i])< epsilon:\n",
    "                    break\n",
    "                else:\n",
    "                    continue\n",
    "\n",
    "stop = timeit.default_timer()\n",
    "execution_time = stop - start\n",
    "print(execution_time)\n",
    "\n",
    "k1=np.linspace(0.01,1.1*k_ss,10)\n",
    "plt.plot(k1,V1[:,199])\n",
    "plt.title('Value Function')\n",
    "plt.xlabel('Capital')\n",
    "plt.ylabel('Utility')"
   ]
  },
  {
   "cell_type": "markdown",
   "metadata": {},
   "source": [
    "#### Including information on concavity the time slightly decreased to 0.005. It is significantly smaller compared to the case when we are introducing monotonicity."
   ]
  },
  {
   "cell_type": "code",
   "execution_count": 325,
   "metadata": {},
   "outputs": [
    {
     "name": "stdout",
     "output_type": "stream",
     "text": [
      "0.18301228695781901\n"
     ]
    },
    {
     "data": {
      "image/png": "[encoded data removed]",
      "text/plain": [
       "<Figure size 432x288 with 1 Axes>"
      ]
     },
     "metadata": {},
     "output_type": "display_data"
    }
   ],
   "source": [
    "### LOCAL SEARCH\n",
    "\n",
    "#STEP 4 with local search \n",
    "start = timeit.default_timer()\n",
    "\n",
    "V3 = np.empty(shape=[10, 200])\n",
    "V3[:,0]=np.zeros((10))\n",
    "G3 = np.empty(shape=[10, 200])\n",
    "X3 = np.empty(shape=[10, 10]) \n",
    "for s in range(0,199):\n",
    "    epsilon=0.01\n",
    "    for i,j in zip(range(0,10),range(0,10)):\n",
    "        if j >= G3[:,s+1][i]:\n",
    "            X3[i,j]=M[i,j]+(beta*V3[:,s][j])\n",
    "            X3[np.isnan(X3)] = 0 \n",
    "            for i in range(0,10):\n",
    "                V3[:,s+1][i]= np.amax(X3[i,:])\n",
    "                G3[:,s]=np.argmax(X3[i,:])\n",
    "            for k,i in zip(range(0,199),range(0,10)):\n",
    "                if abs(V3[:,s+1][i]-V3[:,s][i])< epsilon:\n",
    "                    break\n",
    "                else:\n",
    "                    continue\n",
    "\n",
    "stop = timeit.default_timer()\n",
    "execution_time = stop - start\n",
    "print(execution_time)\n",
    "\n",
    "k1=np.linspace(0.01,1.1*k_ss,10)\n",
    "plt.plot(k1,V3[:,199])\n",
    "plt.title('Value Function')\n",
    "plt.xlabel('Capital')\n",
    "plt.ylabel('Utility')\n",
    "plt.show()"
   ]
  },
  {
   "cell_type": "markdown",
   "metadata": {},
   "source": [
    "### Time increased to 0.18 once including local search, becasue we add a condtiotion and it takes time to check it."
   ]
  },
  {
   "cell_type": "code",
   "execution_count": 329,
   "metadata": {},
   "outputs": [
    {
     "name": "stdout",
     "output_type": "stream",
     "text": [
      "0.0233517789747566\n"
     ]
    },
    {
     "data": {
      "text/plain": [
       "Text(0,0.5,'Utility')"
      ]
     },
     "execution_count": 329,
     "metadata": {},
     "output_type": "execute_result"
    },
    {
     "data": {
      "image/png": "[encoded data removed]",
      "text/plain": [
       "<Figure size 432x288 with 1 Axes>"
      ]
     },
     "metadata": {},
     "output_type": "display_data"
    }
   ],
   "source": [
    "## CONCAVITY + MONOTONICITY\n",
    "\n",
    "#STEP 4\n",
    "start = timeit.default_timer()\n",
    "\n",
    "V4 = np.empty(shape=[10, 200])\n",
    "V4[:,0]=np.zeros((10))\n",
    "G4 = np.empty(shape=[10, 200])\n",
    "X4 = np.empty(shape=[10, 10]) \n",
    "\n",
    "for s in range(0,199):\n",
    "    epsilon=0.01\n",
    "    for i,j in zip(range(0,10),range(0,10)):\n",
    "        if j >= G4[:,s+1][i] and X4[i, j-1]>X4[i,j]: # monotonicity + concavity condition\n",
    "            X4[np.isnan(X4)] = 0\n",
    "            X4[i,j]=M[i,j]+(beta*V4[:,s][j])\n",
    "            for i in range(0,10):\n",
    "                V4[:,s+1][i]= np.amax(X4[i,:])\n",
    "                G4[:,s]=np.argmax(X4[i,:])\n",
    "            for k,i in zip(range(0,199),range(0,10)):\n",
    "                if abs(V4[:,s+1][i]-V4[:,s][i])< epsilon:\n",
    "                    break\n",
    "                else:\n",
    "                    continue\n",
    "                    \n",
    "stop = timeit.default_timer()\n",
    "execution_time = stop - start\n",
    "print(execution_time)\n",
    "\n",
    "k1=np.linspace(0.01,1.1*k_ss,10)\n",
    "plt.plot(k1,V4[:,199])\n",
    "plt.title('Value Function')\n",
    "plt.xlabel('Capital')\n",
    "plt.ylabel('Utility')\n"
   ]
  },
  {
   "cell_type": "code",
   "execution_count": null,
   "metadata": {},
   "outputs": [],
   "source": [
    "### Howard's policy iterations\n"
   ]
  },
  {
   "cell_type": "markdown",
   "metadata": {},
   "source": [
    "## [.2] Redo item 1 adding a labor choice that is continuous."
   ]
  },
  {
   "cell_type": "markdown",
   "metadata": {},
   "source": [
    "### To introduce continous labor choice we calculate it as following:\n",
    "\n",
    "$h_{ss} = (k_{ss})^{-\\dfrac{1-\\theta}{\\theta}}$\n",
    "\n",
    "### and insert the new values in the utility function equation"
   ]
  },
  {
   "cell_type": "code",
   "execution_count": 341,
   "metadata": {},
   "outputs": [
    {
     "name": "stderr",
     "output_type": "stream",
     "text": [
      "/Users/alena/anaconda3/lib/python3.6/site-packages/ipykernel_launcher.py:29: RuntimeWarning: invalid value encountered in log\n"
     ]
    },
    {
     "name": "stdout",
     "output_type": "stream",
     "text": [
      "0.04111687297699973\n"
     ]
    },
    {
     "data": {
      "image/png": "[encoded data removed]",
      "text/plain": [
       "<Figure size 432x288 with 1 Axes>"
      ]
     },
     "metadata": {},
     "output_type": "display_data"
    }
   ],
   "source": [
    "theta = 0.679\n",
    "beta = 0.988\n",
    "delta = 0.013\n",
    "\n",
    "# defining k_ss\n",
    "\n",
    "k_ss=((1-theta)/((1/beta)+delta-1))**(1/theta)\n",
    "k=np.linspace(0.01,1.1*k_ss,10) # discretesize\n",
    "\n",
    "#STEP 2\n",
    "V = np.empty(shape=[10, 200])\n",
    "# initial vector v0\n",
    "V[:,0]=np.zeros((10))\n",
    "\n",
    "#STEP 3. return matrix M\n",
    "# combinations of inputs\n",
    "m1,m2=np.meshgrid(k,k)\n",
    "\n",
    "def f(m1,m2):\n",
    "    return m1**(1-theta) + (1-delta)*m1 - m2\n",
    "N = feasibility(m1,m2)\n",
    "\n",
    "# defining optimal labor \n",
    "h_ss = (k_ss)**(-(1-theta)/theta)\n",
    "h= np.linspace(0.01,1.1*h_ss,10)\n",
    "\n",
    "# utility function\n",
    "def u(m1,m2):\n",
    "    for i,j in zip(range(0,10),range(0,10)):\n",
    "        if N[i,j]>=0:\n",
    "            return np.log(m1**(1-theta) + (1-delta)*m1 - m2)- 5.24*(2/3)*h**(3/2)\n",
    "        else:\n",
    "            return -100\n",
    "\n",
    "M = utility(m1,m2)\n",
    "M[np.isnan(M)] = 0 \n",
    "\n",
    "#STEP 4\n",
    "\n",
    "start = timeit.default_timer()\n",
    "\n",
    "X = np.empty(shape=[10, 10])    \n",
    "for k in range(0,199): #iterations\n",
    "    epsilon=0.01\n",
    "    for i,j in zip(range(0,10),range(0,10)):\n",
    "        X[i,j]=M[i,j]+(beta*V[:,k][j])\n",
    "    for i in range(0,10):\n",
    "        V[:,k+1][i]= np.amax(X[:,i])\n",
    "    for k,i in zip(range(0,199),range(0,10)):\n",
    "        if abs(V[:,k+1][i]-V[:,k][i])< epsilon:\n",
    "            break\n",
    "        else:\n",
    "            continue\n",
    "\n",
    "stop = timeit.default_timer()\n",
    "execution_time = stop - start\n",
    "print(execution_time) \n",
    "\n",
    "#STEP 5\n",
    "G=np.empty(shape=(10,1)) # policy function\n",
    "for i in range(0,9):\n",
    "    G[i]=np.argmax(X[:,i]) \n",
    "    \n",
    "#STEP 6\n",
    "plt.figure()\n",
    "k=np.linspace(0.01,1.1*k_ss,10)\n",
    "plt.plot(k,V[:,199])\n",
    "plt.title('Value Function')\n",
    "plt.xlabel('Capital')\n",
    "plt.ylabel('Utility')\n",
    "plt.show()\n"
   ]
  },
  {
   "cell_type": "markdown",
   "metadata": {},
   "source": [
    "### Once introducing continuous labor choice the results for time running of the code are similar the previous exercise."
   ]
  },
  {
   "cell_type": "code",
   "execution_count": 370,
   "metadata": {},
   "outputs": [
    {
     "name": "stdout",
     "output_type": "stream",
     "text": [
      "0.04827602201839909\n"
     ]
    },
    {
     "data": {
      "text/plain": [
       "Text(0,0.5,'Utility')"
      ]
     },
     "execution_count": 370,
     "metadata": {},
     "output_type": "execute_result"
    },
    {
     "data": {
      "image/png": "[encoded data removed]",
      "text/plain": [
       "<Figure size 432x288 with 1 Axes>"
      ]
     },
     "metadata": {},
     "output_type": "display_data"
    }
   ],
   "source": [
    "### WITH MONOTONICITY\n",
    "\n",
    "#STEP 4 including monotonicity\n",
    "start = timeit.default_timer()\n",
    "\n",
    "V1 = np.empty(shape=[10, 200])\n",
    "V1[:,0]=np.zeros((10))\n",
    "G1 = np.empty(shape=[10, 200])\n",
    "X1 = np.empty(shape=[10, 10]) \n",
    "X1[np.isnan(X1)] = 0 \n",
    "for s in range(0,199):\n",
    "    epsilon=0.01\n",
    "    for i,j in zip(range(0,10),range(0,1)):\n",
    "        if j >= G1[:,s+1][i]: # monotonicity condition\n",
    "            X1[i,j]=M[i,j]+(beta*V1[:,s][j])\n",
    "            for i in range(0,10):\n",
    "                V1[:,s+1][i]= np.amax(X1[i,:])\n",
    "                G1[:,s]=np.argmax(X1[i,:])\n",
    "            for k,i in zip(range(0,199),range(0,10)):\n",
    "                if abs(V1[:,s+1][i]-V1[:,s][i])< epsilon:\n",
    "                    break\n",
    "                else:\n",
    "                    continue\n",
    "\n",
    "stop = timeit.default_timer()\n",
    "execution_time = stop - start\n",
    "print(execution_time)\n",
    "\n",
    "k1=np.linspace(0.01,1.1*k_ss,10)\n",
    "plt.plot(k1,V1[:,199])\n",
    "plt.title('Value Function')\n",
    "plt.xlabel('Capital')\n",
    "plt.ylabel('Utility')"
   ]
  },
  {
   "cell_type": "code",
   "execution_count": 360,
   "metadata": {},
   "outputs": [
    {
     "name": "stdout",
     "output_type": "stream",
     "text": [
      "0.0018732469761744142\n"
     ]
    },
    {
     "data": {
      "text/plain": [
       "Text(0,0.5,'Utility')"
      ]
     },
     "execution_count": 360,
     "metadata": {},
     "output_type": "execute_result"
    },
    {
     "data": {
      "image/png": "[encoded data removed]",
      "text/plain": [
       "<Figure size 432x288 with 1 Axes>"
      ]
     },
     "metadata": {},
     "output_type": "display_data"
    }
   ],
   "source": [
    "### WITH CONCAVITY\n",
    "\n",
    "#STEP 4 including concavity\n",
    "start = timeit.default_timer()\n",
    "\n",
    "X2 = np.empty(shape=[10, 10])\n",
    "for s in range(0,199):\n",
    "    epsilon=0.01\n",
    "    for i,j in zip(range(0,10),range(0,10)):\n",
    "        if X2[i, j-1]>X2[i,j]: # concavity\n",
    "            X2[i,j]=M[i,j]+(beta*V1[:,s][j])\n",
    "            X2[np.isnan(X2)] = 0 \n",
    "            for i in range(0,10):\n",
    "                V1[:,s+1][i]= np.amax(X1[i,:])\n",
    "            for k,i in zip(range(0,199),range(0,10)):\n",
    "                if abs(V1[:,s+1][i]-V1[:,s][i])< epsilon:\n",
    "                    break\n",
    "                else:\n",
    "                    continue\n",
    "\n",
    "stop = timeit.default_timer()\n",
    "execution_time = stop - start\n",
    "print(execution_time)\n",
    "\n",
    "k1=np.linspace(0.01,1.1*k_ss,10)\n",
    "plt.plot(k1,V1[:,199])\n",
    "plt.title('Value Function')\n",
    "plt.xlabel('Capital')\n",
    "plt.ylabel('Utility')"
   ]
  },
  {
   "cell_type": "code",
   "execution_count": 358,
   "metadata": {},
   "outputs": [
    {
     "name": "stdout",
     "output_type": "stream",
     "text": [
      "0.3090086770243943\n"
     ]
    },
    {
     "data": {
      "image/png": "[encoded data removed]",
      "text/plain": [
       "<Figure size 432x288 with 1 Axes>"
      ]
     },
     "metadata": {},
     "output_type": "display_data"
    }
   ],
   "source": [
    "### LOCAL SEARCH\n",
    "\n",
    "#STEP 4 with local search \n",
    "start = timeit.default_timer()\n",
    "\n",
    "V3 = np.empty(shape=[10, 200])\n",
    "V3[:,0]=np.zeros((10))\n",
    "G3 = np.empty(shape=[10, 200])\n",
    "X3 = np.empty(shape=[10, 10]) \n",
    "for s in range(0,199):\n",
    "    epsilon=0.01\n",
    "    for i,j in zip(range(0,10),range(0,10)):\n",
    "        if j >= G3[:,s+1][i]:\n",
    "            X3[i,j]=M[i,j]+(beta*V3[:,s][j])\n",
    "            X3[np.isnan(X3)] = 0 \n",
    "            for i in range(0,10):\n",
    "                V3[:,s+1][i]= np.amax(X3[i,:])\n",
    "                G3[:,s]=np.argmax(X3[i,:])\n",
    "            for k,i in zip(range(0,199),range(0,10)):\n",
    "                if abs(V3[:,s+1][i]-V3[:,s][i])< epsilon:\n",
    "                    break\n",
    "                else:\n",
    "                    continue\n",
    "\n",
    "stop = timeit.default_timer()\n",
    "execution_time = stop - start\n",
    "print(execution_time)\n",
    "\n",
    "k1=np.linspace(0.01,1.1*k_ss,10)\n",
    "plt.plot(k1,V3[:,199])\n",
    "plt.title('Value Function')\n",
    "plt.xlabel('Capital')\n",
    "plt.ylabel('Utility')\n",
    "plt.show()"
   ]
  },
  {
   "cell_type": "code",
   "execution_count": 372,
   "metadata": {},
   "outputs": [
    {
     "name": "stdout",
     "output_type": "stream",
     "text": [
      "0.044280410977080464\n"
     ]
    },
    {
     "data": {
      "text/plain": [
       "Text(0,0.5,'Utility')"
      ]
     },
     "execution_count": 372,
     "metadata": {},
     "output_type": "execute_result"
    },
    {
     "data": {
      "image/png": "[encoded data removed]",
      "text/plain": [
       "<Figure size 432x288 with 1 Axes>"
      ]
     },
     "metadata": {},
     "output_type": "display_data"
    }
   ],
   "source": [
    "## CONCAVITY + MONOTONICITY\n",
    "\n",
    "#STEP 4\n",
    "start = timeit.default_timer()\n",
    "\n",
    "V4 = np.empty(shape=[10, 200])\n",
    "V4[:,0]=np.zeros((10))\n",
    "G4 = np.empty(shape=[10, 200])\n",
    "X4 = np.empty(shape=[10, 10]) \n",
    "\n",
    "for s in range(0,199):\n",
    "    epsilon=0.01\n",
    "    for i,j in zip(range(0,10),range(0,10)):\n",
    "        if j >= G4[:,s+1][i] and X4[i, j-1]>X4[i,j]: # monotonicity + concavity condition\n",
    "            X4[np.isnan(X4)] = 0\n",
    "            X4[i,j]=M[i,j]+(beta*V4[:,s][j])\n",
    "            for i in range(0,10):\n",
    "                V4[:,s+1][i]= np.amax(X4[i,:])\n",
    "                G4[:,s]=np.argmax(X4[i,:])\n",
    "            for k,i in zip(range(0,199),range(0,10)):\n",
    "                if abs(V4[:,s+1][i]-V4[:,s][i])< epsilon:\n",
    "                    break\n",
    "                else:\n",
    "                    continue\n",
    "                    \n",
    "stop = timeit.default_timer()\n",
    "execution_time = stop - start\n",
    "print(execution_time)\n",
    "\n",
    "k1=np.linspace(0.01,1.1*k_ss,10)\n",
    "plt.plot(k1,V4[:,199])\n",
    "plt.title('Value Function')\n",
    "plt.xlabel('Capital')\n",
    "plt.ylabel('Utility')\n"
   ]
  },
  {
   "cell_type": "markdown",
   "metadata": {},
   "source": [
    "### So the shortest time execution is when we are introducing concavity, the time radically decreases. But once we are adding the condtion to check in case of the local search time for run increases even more than in case on the general value function without concavity or monotonicity."
   ]
  },
  {
   "cell_type": "code",
   "execution_count": null,
   "metadata": {},
   "outputs": [],
   "source": []
  },
  {
   "cell_type": "markdown",
   "metadata": {},
   "source": [
    "## Question 2. Business Cycle Fluctuations"
   ]
  },
  {
   "cell_type": "code",
   "execution_count": 388,
   "metadata": {},
   "outputs": [
    {
     "ename": "ValueError",
     "evalue": "The truth value of an array with more than one element is ambiguous. Use a.any() or a.all()",
     "output_type": "error",
     "traceback": [
      "\u001b[0;31m---------------------------------------------------------------------------\u001b[0m",
      "\u001b[0;31mValueError\u001b[0m                                Traceback (most recent call last)",
      "\u001b[0;32m<ipython-input-388-3fb10b35ff8d>\u001b[0m in \u001b[0;36m<module>\u001b[0;34m()\u001b[0m\n\u001b[1;32m     48\u001b[0m     \u001b[0mM2\u001b[0m\u001b[0;34m[\u001b[0m\u001b[0mi\u001b[0m\u001b[0;34m]\u001b[0m\u001b[0;34m=\u001b[0m\u001b[0;34m[\u001b[0m\u001b[0;36m0\u001b[0m\u001b[0;34m]\u001b[0m\u001b[0;34m*\u001b[0m\u001b[0;36m10\u001b[0m\u001b[0;34m\u001b[0m\u001b[0m\n\u001b[1;32m     49\u001b[0m     \u001b[0;32mfor\u001b[0m \u001b[0mj\u001b[0m \u001b[0;32min\u001b[0m \u001b[0mrange\u001b[0m\u001b[0;34m(\u001b[0m\u001b[0;36m10\u001b[0m\u001b[0;34m)\u001b[0m\u001b[0;34m:\u001b[0m\u001b[0;34m\u001b[0m\u001b[0m\n\u001b[0;32m---> 50\u001b[0;31m         \u001b[0mM2\u001b[0m\u001b[0;34m[\u001b[0m\u001b[0mi\u001b[0m\u001b[0;34m]\u001b[0m\u001b[0;34m[\u001b[0m\u001b[0mj\u001b[0m\u001b[0;34m]\u001b[0m \u001b[0;34m=\u001b[0m \u001b[0mu\u001b[0m\u001b[0;34m(\u001b[0m\u001b[0mm1\u001b[0m\u001b[0;34m,\u001b[0m \u001b[0mm2\u001b[0m\u001b[0;34m,\u001b[0m \u001b[0;36m1.01\u001b[0m\u001b[0;34m)\u001b[0m\u001b[0;34m\u001b[0m\u001b[0m\n\u001b[0m\u001b[1;32m     51\u001b[0m \u001b[0;34m\u001b[0m\u001b[0m\n\u001b[1;32m     52\u001b[0m \u001b[0mM\u001b[0m \u001b[0;34m=\u001b[0m \u001b[0mnp\u001b[0m\u001b[0;34m.\u001b[0m\u001b[0mconcatenate\u001b[0m\u001b[0;34m(\u001b[0m\u001b[0;34m(\u001b[0m\u001b[0mM1\u001b[0m\u001b[0;34m,\u001b[0m \u001b[0mM2\u001b[0m\u001b[0;34m)\u001b[0m\u001b[0;34m,\u001b[0m \u001b[0maxis\u001b[0m\u001b[0;34m=\u001b[0m\u001b[0;36m0\u001b[0m\u001b[0;34m)\u001b[0m\u001b[0;34m\u001b[0m\u001b[0m\n",
      "\u001b[0;32m<ipython-input-388-3fb10b35ff8d>\u001b[0m in \u001b[0;36mu\u001b[0;34m(m1, m2, m3)\u001b[0m\n\u001b[1;32m     31\u001b[0m \u001b[0;32mdef\u001b[0m \u001b[0mu\u001b[0m\u001b[0;34m(\u001b[0m\u001b[0mm1\u001b[0m\u001b[0;34m,\u001b[0m\u001b[0mm2\u001b[0m\u001b[0;34m,\u001b[0m\u001b[0mm3\u001b[0m\u001b[0;34m)\u001b[0m\u001b[0;34m:\u001b[0m\u001b[0;34m\u001b[0m\u001b[0m\n\u001b[1;32m     32\u001b[0m     \u001b[0;32mfor\u001b[0m \u001b[0mi\u001b[0m\u001b[0;34m,\u001b[0m\u001b[0mj\u001b[0m \u001b[0;32min\u001b[0m \u001b[0mzip\u001b[0m\u001b[0;34m(\u001b[0m\u001b[0mrange\u001b[0m\u001b[0;34m(\u001b[0m\u001b[0;36m0\u001b[0m\u001b[0;34m,\u001b[0m\u001b[0;36m10\u001b[0m\u001b[0;34m)\u001b[0m\u001b[0;34m,\u001b[0m\u001b[0mrange\u001b[0m\u001b[0;34m(\u001b[0m\u001b[0;36m0\u001b[0m\u001b[0;34m,\u001b[0m\u001b[0;36m10\u001b[0m\u001b[0;34m)\u001b[0m\u001b[0;34m)\u001b[0m\u001b[0;34m:\u001b[0m\u001b[0;34m\u001b[0m\u001b[0m\n\u001b[0;32m---> 33\u001b[0;31m         \u001b[0;32mif\u001b[0m \u001b[0mN\u001b[0m\u001b[0;34m[\u001b[0m\u001b[0mi\u001b[0m\u001b[0;34m,\u001b[0m\u001b[0mj\u001b[0m\u001b[0;34m]\u001b[0m\u001b[0;34m>=\u001b[0m\u001b[0;36m0\u001b[0m\u001b[0;34m:\u001b[0m\u001b[0;34m\u001b[0m\u001b[0m\n\u001b[0m\u001b[1;32m     34\u001b[0m             \u001b[0;32mreturn\u001b[0m \u001b[0mnp\u001b[0m\u001b[0;34m.\u001b[0m\u001b[0mlog\u001b[0m\u001b[0;34m(\u001b[0m\u001b[0mm3\u001b[0m\u001b[0;34m*\u001b[0m\u001b[0mm1\u001b[0m\u001b[0;34m**\u001b[0m\u001b[0;34m(\u001b[0m\u001b[0;36m1\u001b[0m\u001b[0;34m-\u001b[0m\u001b[0mtheta\u001b[0m\u001b[0;34m)\u001b[0m \u001b[0;34m+\u001b[0m \u001b[0;34m(\u001b[0m\u001b[0;36m1\u001b[0m\u001b[0;34m-\u001b[0m\u001b[0mdelta\u001b[0m\u001b[0;34m)\u001b[0m\u001b[0;34m*\u001b[0m\u001b[0mm1\u001b[0m \u001b[0;34m-\u001b[0m \u001b[0mm2\u001b[0m\u001b[0;34m)\u001b[0m\u001b[0;34m\u001b[0m\u001b[0m\n\u001b[1;32m     35\u001b[0m         \u001b[0;32melse\u001b[0m\u001b[0;34m:\u001b[0m\u001b[0;34m\u001b[0m\u001b[0m\n",
      "\u001b[0;31mValueError\u001b[0m: The truth value of an array with more than one element is ambiguous. Use a.any() or a.all()"
     ]
    }
   ],
   "source": [
    "import sympy as sy\n",
    "import numpy as np\n",
    "import math\n",
    "import matplotlib.pyplot as plt\n",
    "import timeit\n",
    "\n",
    "theta = 0.679\n",
    "beta = 0.988\n",
    "delta = 0.013\n",
    "\n",
    "# defining k_ss\n",
    "\n",
    "k_ss=((1-theta)/((1/beta)+delta-1))**(1/theta)\n",
    "k=np.linspace(0.01,1.1*k_ss,10) # discretesize\n",
    "z = [1.01, 1/1.01]\n",
    "\n",
    "\n",
    "# combinations of inputs\n",
    "#m1,m2,m3=np.meshgrid(k,k,z)\n",
    "\n",
    "def m(m1,m2,m3):\n",
    "    return m3*m1**(1-theta) + (1-delta)*m1 - m2\n",
    "#N = m(m1,m2,m3)\n",
    "\n",
    "# utility function\n",
    "def u(m1,m2,m3):\n",
    "    for i,j in zip(range(0,10),range(0,10)):\n",
    "        if N[i,j]>=0:\n",
    "            return np.log(m3*m1**(1-theta) + (1-delta)*m1 - m2)\n",
    "        else:\n",
    "            return -100\n",
    "\n",
    "    \n",
    "#STEP 3. return matrix M\n",
    "Chi =[0]*20\n",
    "M1 =[0]*10\n",
    "for i in range(10):\n",
    "    M1[i]=[0]*10\n",
    "    for j in range(10):\n",
    "        M1[i][j] = m(m1, m2, 1.01)\n",
    "        \n",
    "M2 =[0]*10\n",
    "for i in range(10):\n",
    "    M2[i]=[0]*10\n",
    "    for j in range(10):\n",
    "        M2[i][j] = u(m1, m2, 1.01)  \n",
    "\n",
    "M = np.concatenate((M1, M2), axis=0)\n",
    "\n",
    "\n",
    "Chi = [0]* (p*2)    \n",
    "for i in range(p*2):\n",
    "    Chi[i] = [0] * p\n",
    "        \n",
    "\n",
    "#STEP 4\n",
    "\n",
    "start = timeit.default_timer()\n",
    "\n",
    "X = np.empty(shape=[10, 10])    \n",
    "for k in range(0,199): #iterations\n",
    "    epsilon=0.01\n",
    "    for i,j,p in zip(range(0,10),range(0,10),range(0,10)):\n",
    "        X[i,j]=M[i,j]+(beta*V[:,k][p+j])\n",
    "    for i in range(0,10):\n",
    "        V[:,k+1][i]= np.amax(X[:,i])\n",
    "    for k,i in zip(range(0,199),range(0,10)):\n",
    "        if abs(V[:,k+1][i]-V[:,k][i])< epsilon:\n",
    "            break\n",
    "        else:\n",
    "            continue\n",
    "\n",
    "stop = timeit.default_timer()\n",
    "execution_time = stop - start\n",
    "print(execution_time)\n",
    "\n",
    "\n",
    "#STEP 5\n",
    "G=np.empty(shape=(10,1)) # policy function\n",
    "for i in range(0,9):\n",
    "    G[i]=np.argmax(X[:,i]) \n",
    "    \n",
    "#STEP 6\n",
    "plt.figure()\n",
    "k=np.linspace(0.01,1.1*k_ss,10)\n",
    "plt.plot(k,V[:,199])\n",
    "plt.title('Value Function')\n",
    "plt.xlabel('Capital')\n",
    "plt.ylabel('Utility')\n",
    "plt.show()\n"
   ]
  },
  {
   "cell_type": "code",
   "execution_count": null,
   "metadata": {},
   "outputs": [],
   "source": []
  }
 ],
 "metadata": {
  "kernelspec": {
   "display_name": "Python 3",
   "language": "python",
   "name": "python3"
  },
  "language_info": {
   "codemirror_mode": {
    "name": "ipython",
    "version": 3
   },
   "file_extension": ".py",
   "mimetype": "text/x-python",
   "name": "python",
   "nbconvert_exporter": "python",
   "pygments_lexer": "ipython3",
   "version": "3.6.5"
  }
 },
 "nbformat": 4,
 "nbformat_minor": 2
}
